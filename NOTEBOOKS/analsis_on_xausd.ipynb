{
 "cells": [
  {
   "cell_type": "markdown",
   "metadata": {},
   "source": [
    "## LOADING THE DATASET"
   ]
  },
  {
   "cell_type": "code",
   "execution_count": 5,
   "metadata": {},
   "outputs": [
    {
     "name": "stdout",
     "output_type": "stream",
     "text": [
      "                        Open     High      Low    Close  Volume\n",
      "Datetime                                                       \n",
      "2024-04-30 11:00:00  2317.24  2318.42  2310.67  2312.77    7950\n",
      "2024-04-30 12:00:00  2312.78  2317.34  2312.25  2314.69    7708\n",
      "2024-04-30 13:00:00  2314.70  2317.90  2314.10  2315.38    6237\n",
      "2024-04-30 14:00:00  2315.39  2315.50  2309.54  2312.63    8052\n",
      "2024-04-30 15:00:00  2312.62  2313.26  2304.32  2305.89   17353\n"
     ]
    }
   ],
   "source": [
    "import pandas as pd\n",
    "\n",
    "# Load your CSV file without headers, since the first row seems to contain actual data\n",
    "file_path = '../DATA/XAUUSD60.csv'  # Ensure the path is correct\n",
    "data = pd.read_csv(file_path, header=None)\n",
    "\n",
    "# Set the correct column names based on the data structure\n",
    "data.columns = ['Date', 'Time', 'Open', 'High', 'Low', 'Close', 'Volume']\n",
    "\n",
    "# Combine 'Date' and 'Time' into a single 'Datetime' column\n",
    "data['Datetime'] = pd.to_datetime(data['Date'] + ' ' + data['Time'])\n",
    "\n",
    "# Set 'Datetime' as the index\n",
    "data.set_index('Datetime', inplace=True)\n",
    "\n",
    "# Optionally drop the original 'Date' and 'Time' columns if no longer needed\n",
    "data.drop(['Date', 'Time'], axis=1, inplace=True)\n",
    "\n",
    "# Display the first few rows to confirm the data is loaded correctly\n",
    "print(data.head())\n",
    "\n",
    "\n",
    "\n"
   ]
  },
  {
   "cell_type": "markdown",
   "metadata": {},
   "source": [
    "Explanation:\n",
    "\n",
    "I have loaded the dataset and ensure the Datetime is properly formatted for time-series analysis.\n",
    "The data is now ready to be analyzed."
   ]
  },
  {
   "cell_type": "markdown",
   "metadata": {},
   "source": [
    "##  Calculate Exponential Moving Averages (EMAs)"
   ]
  },
  {
   "cell_type": "code",
   "execution_count": 6,
   "metadata": {},
   "outputs": [
    {
     "name": "stdout",
     "output_type": "stream",
     "text": [
      "                       Close       EMA_17       EMA_20       EMA_72  \\\n",
      "Datetime                                                              \n",
      "2024-04-30 11:00:00  2312.77  2312.770000  2312.770000  2312.770000   \n",
      "2024-04-30 12:00:00  2314.69  2312.983333  2312.952857  2312.822603   \n",
      "2024-04-30 13:00:00  2315.38  2313.249630  2313.184014  2312.892668   \n",
      "2024-04-30 14:00:00  2312.63  2313.180782  2313.131250  2312.885472   \n",
      "2024-04-30 15:00:00  2305.89  2312.370695  2312.441608  2312.693815   \n",
      "\n",
      "                         EMA_200  \n",
      "Datetime                          \n",
      "2024-04-30 11:00:00  2312.770000  \n",
      "2024-04-30 12:00:00  2312.789104  \n",
      "2024-04-30 13:00:00  2312.814885  \n",
      "2024-04-30 14:00:00  2312.813045  \n",
      "2024-04-30 15:00:00  2312.744159  \n"
     ]
    }
   ],
   "source": [
    "# Calculate the 17, 20, 72, and 200-period EMAs using the 'Close' prices\n",
    "data['EMA_17'] = data['Close'].ewm(span=17, adjust=False).mean()\n",
    "data['EMA_20'] = data['Close'].ewm(span=20, adjust=False).mean()\n",
    "data['EMA_72'] = data['Close'].ewm(span=72, adjust=False).mean()\n",
    "data['EMA_200'] = data['Close'].ewm(span=200, adjust=False).mean()\n",
    "\n",
    "# Display the calculated EMAs\n",
    "print(data[['Close', 'EMA_17', 'EMA_20', 'EMA_72', 'EMA_200']].head())\n"
   ]
  },
  {
   "cell_type": "markdown",
   "metadata": {},
   "source": [
    "  Explanation:\n",
    "\n",
    "The Exponential Moving Average (EMA) is used to smooth price data to identify trends over different periods.\n",
    "I stored each EMA in new columns: EMA_17, EMA_20, EMA_72, and EMA_200."
   ]
  }
 ],
 "metadata": {
  "kernelspec": {
   "display_name": "base",
   "language": "python",
   "name": "python3"
  },
  "language_info": {
   "codemirror_mode": {
    "name": "ipython",
    "version": 3
   },
   "file_extension": ".py",
   "mimetype": "text/x-python",
   "name": "python",
   "nbconvert_exporter": "python",
   "pygments_lexer": "ipython3",
   "version": "3.11.5"
  }
 },
 "nbformat": 4,
 "nbformat_minor": 2
}
